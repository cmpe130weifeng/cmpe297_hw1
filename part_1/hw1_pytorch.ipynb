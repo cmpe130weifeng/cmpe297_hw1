{
 "cells": [
  {
   "cell_type": "code",
   "execution_count": 1,
   "metadata": {},
   "outputs": [],
   "source": [
    "# import libraries\n",
    "import numpy as np\n",
    "import pandas as pd\n",
    "import torch\n",
    "import torch.nn as nn\n",
    "from torchvision import datasets\n",
    "from torchvision.transforms import ToTensor\n"
   ]
  },
  {
   "cell_type": "code",
   "execution_count": 2,
   "metadata": {},
   "outputs": [
    {
     "data": {
      "text/plain": [
       "device(type='cpu')"
      ]
     },
     "execution_count": 2,
     "metadata": {},
     "output_type": "execute_result"
    }
   ],
   "source": [
    "# Device configuration\n",
    "device = torch.device('cuda' if torch.cuda.is_available() else 'cpu')\n",
    "device"
   ]
  },
  {
   "cell_type": "code",
   "execution_count": 3,
   "metadata": {},
   "outputs": [],
   "source": [
    "# download MNIST dataset\n",
    "train_data = datasets.MNIST(\n",
    "    root = \"data\",\t\n",
    "    train = True,\n",
    "    download = True,\n",
    "    transform = ToTensor()\n",
    ")\n",
    "\n",
    "\n",
    "test_data = datasets.MNIST(\n",
    "    root = \"data\",\n",
    "    train = False,\n",
    "    transform = ToTensor()\n",
    ")"
   ]
  },
  {
   "cell_type": "code",
   "execution_count": 4,
   "metadata": {},
   "outputs": [
    {
     "name": "stdout",
     "output_type": "stream",
     "text": [
      "Dataset MNIST\n",
      "    Number of datapoints: 60000\n",
      "    Root location: data\n",
      "    Split: Train\n",
      "    StandardTransform\n",
      "Transform: ToTensor()\n"
     ]
    }
   ],
   "source": [
    "print(train_data)"
   ]
  },
  {
   "cell_type": "code",
   "execution_count": 5,
   "metadata": {},
   "outputs": [
    {
     "name": "stdout",
     "output_type": "stream",
     "text": [
      "Dataset MNIST\n",
      "    Number of datapoints: 10000\n",
      "    Root location: data\n",
      "    Split: Test\n",
      "    StandardTransform\n",
      "Transform: ToTensor()\n"
     ]
    }
   ],
   "source": [
    "print(test_data)"
   ]
  },
  {
   "cell_type": "code",
   "execution_count": 6,
   "metadata": {},
   "outputs": [
    {
     "name": "stdout",
     "output_type": "stream",
     "text": [
      "torch.Size([60000, 28, 28])\n"
     ]
    }
   ],
   "source": [
    "print(train_data.data.size())"
   ]
  },
  {
   "cell_type": "code",
   "execution_count": 7,
   "metadata": {},
   "outputs": [
    {
     "name": "stdout",
     "output_type": "stream",
     "text": [
      "torch.Size([60000])\n"
     ]
    }
   ],
   "source": [
    "print(train_data.targets.size())"
   ]
  },
  {
   "cell_type": "code",
   "execution_count": 8,
   "metadata": {},
   "outputs": [
    {
     "data": {
      "image/png": "[encoded data removed]",
      "text/plain": [
       "<Figure size 432x288 with 1 Axes>"
      ]
     },
     "metadata": {
      "needs_background": "light"
     },
     "output_type": "display_data"
    }
   ],
   "source": [
    "# plot one training example\n",
    "import matplotlib.pyplot as plt\n",
    "%matplotlib inline\n",
    "\n",
    "plt.imshow(train_data.data[0].numpy(), cmap='gray')\n",
    "plt.title('%i' % train_data.targets[0])\n",
    "plt.show()"
   ]
  },
  {
   "cell_type": "code",
   "execution_count": 9,
   "metadata": {},
   "outputs": [],
   "source": [
    "# prepare data for training with DataLoader\n",
    "from torch.utils.data import DataLoader\n",
    "# The Dataset retrieves our dataset’s features and labels one sample at a time.\n",
    "\n",
    "loaders = {\n",
    "    'train': DataLoader(train_data, \n",
    "                        batch_size=64, \n",
    "                        shuffle=True,\n",
    "                        num_workers=1),\n",
    "    'test': DataLoader(test_data, \n",
    "                        batch_size=64, \n",
    "                        shuffle=True,\n",
    "                        num_workers=1)\n",
    "}\n"
   ]
  },
  {
   "cell_type": "code",
   "execution_count": 18,
   "metadata": {},
   "outputs": [],
   "source": [
    "# define cnn model\n",
    "\n",
    "class CNN(nn.Module):\n",
    "    def __init__(self):\n",
    "        super(CNN, self).__init__()\n",
    "\n",
    "        self.conv1 = nn.Sequential(\n",
    "            nn.Conv2d(1, 16, kernel_size=5, stride=1, padding=2),\n",
    "            nn.BatchNorm2d(16),\n",
    "            nn.ReLU(),\n",
    "            nn.MaxPool2d(kernel_size=2, stride=2))\n",
    "            \n",
    "        self.conv2 = nn.Sequential(\n",
    "            nn.Conv2d(16, 32, kernel_size=5, stride=1, padding=2),\n",
    "            nn.BatchNorm2d(32),\n",
    "            nn.ReLU(),\n",
    "            nn.MaxPool2d(kernel_size=2, stride=2))\n",
    "\n",
    "        self.fc = nn.Linear(7*7*32, 10)\n",
    "\n",
    "    def forward(self, x):\n",
    "        x = self.conv1(x)\n",
    "        x = self.conv2(x)\n",
    "        # flatten the output of conv2 to (batch_size, 32 * 7 * 7)\n",
    "        x = x.view(x.size(0), -1)       \n",
    "        output = self.fc(x)\n",
    "        return output, x    # return x for visualization"
   ]
  },
  {
   "cell_type": "code",
   "execution_count": 19,
   "metadata": {},
   "outputs": [
    {
     "name": "stdout",
     "output_type": "stream",
     "text": [
      "CNN(\n",
      "  (conv1): Sequential(\n",
      "    (0): Conv2d(1, 16, kernel_size=(5, 5), stride=(1, 1), padding=(2, 2))\n",
      "    (1): BatchNorm2d(16, eps=1e-05, momentum=0.1, affine=True, track_running_stats=True)\n",
      "    (2): ReLU()\n",
      "    (3): MaxPool2d(kernel_size=2, stride=2, padding=0, dilation=1, ceil_mode=False)\n",
      "  )\n",
      "  (conv2): Sequential(\n",
      "    (0): Conv2d(16, 32, kernel_size=(5, 5), stride=(1, 1), padding=(2, 2))\n",
      "    (1): BatchNorm2d(32, eps=1e-05, momentum=0.1, affine=True, track_running_stats=True)\n",
      "    (2): ReLU()\n",
      "    (3): MaxPool2d(kernel_size=2, stride=2, padding=0, dilation=1, ceil_mode=False)\n",
      "  )\n",
      "  (fc): Linear(in_features=1568, out_features=10, bias=True)\n",
      ")\n"
     ]
    }
   ],
   "source": [
    "cnn = CNN()\n",
    "print(cnn)"
   ]
  },
  {
   "cell_type": "code",
   "execution_count": 20,
   "metadata": {},
   "outputs": [],
   "source": [
    "# define loss function and optimizer\n",
    "criterion = nn.CrossEntropyLoss()\n",
    "optimizer = torch.optim.Adam(cnn.parameters(), lr=0.001)\n"
   ]
  },
  {
   "cell_type": "code",
   "execution_count": 21,
   "metadata": {},
   "outputs": [
    {
     "name": "stdout",
     "output_type": "stream",
     "text": [
      "Epoch [1/5], Iter [100/937] Loss: 0.0566\n",
      "Epoch [1/5], Iter [200/937] Loss: 0.0768\n",
      "Epoch [1/5], Iter [300/937] Loss: 0.0483\n",
      "Epoch [1/5], Iter [400/937] Loss: 0.0145\n",
      "Epoch [1/5], Iter [500/937] Loss: 0.0489\n",
      "Epoch [1/5], Iter [600/937] Loss: 0.0238\n",
      "Epoch [1/5], Iter [700/937] Loss: 0.1135\n",
      "Epoch [1/5], Iter [800/937] Loss: 0.0762\n",
      "Epoch [1/5], Iter [900/937] Loss: 0.0824\n",
      "Epoch [2/5], Iter [100/937] Loss: 0.0196\n",
      "Epoch [2/5], Iter [200/937] Loss: 0.0190\n",
      "Epoch [2/5], Iter [300/937] Loss: 0.0286\n",
      "Epoch [2/5], Iter [400/937] Loss: 0.0208\n",
      "Epoch [2/5], Iter [500/937] Loss: 0.1178\n",
      "Epoch [2/5], Iter [600/937] Loss: 0.0041\n",
      "Epoch [2/5], Iter [700/937] Loss: 0.0187\n",
      "Epoch [2/5], Iter [800/937] Loss: 0.0619\n",
      "Epoch [2/5], Iter [900/937] Loss: 0.1200\n",
      "Epoch [3/5], Iter [100/937] Loss: 0.0167\n",
      "Epoch [3/5], Iter [200/937] Loss: 0.0239\n",
      "Epoch [3/5], Iter [300/937] Loss: 0.0734\n",
      "Epoch [3/5], Iter [400/937] Loss: 0.0568\n",
      "Epoch [3/5], Iter [500/937] Loss: 0.0018\n",
      "Epoch [3/5], Iter [600/937] Loss: 0.0012\n",
      "Epoch [3/5], Iter [700/937] Loss: 0.0132\n",
      "Epoch [3/5], Iter [800/937] Loss: 0.0704\n",
      "Epoch [3/5], Iter [900/937] Loss: 0.0824\n",
      "Epoch [4/5], Iter [100/937] Loss: 0.0407\n",
      "Epoch [4/5], Iter [200/937] Loss: 0.0032\n",
      "Epoch [4/5], Iter [300/937] Loss: 0.0096\n",
      "Epoch [4/5], Iter [400/937] Loss: 0.0057\n",
      "Epoch [4/5], Iter [500/937] Loss: 0.0797\n",
      "Epoch [4/5], Iter [600/937] Loss: 0.0090\n",
      "Epoch [4/5], Iter [700/937] Loss: 0.0611\n",
      "Epoch [4/5], Iter [800/937] Loss: 0.0078\n",
      "Epoch [4/5], Iter [900/937] Loss: 0.0319\n",
      "Epoch [5/5], Iter [100/937] Loss: 0.0028\n",
      "Epoch [5/5], Iter [200/937] Loss: 0.0198\n",
      "Epoch [5/5], Iter [300/937] Loss: 0.0063\n",
      "Epoch [5/5], Iter [400/937] Loss: 0.0098\n",
      "Epoch [5/5], Iter [500/937] Loss: 0.0082\n",
      "Epoch [5/5], Iter [600/937] Loss: 0.0014\n",
      "Epoch [5/5], Iter [700/937] Loss: 0.0304\n",
      "Epoch [5/5], Iter [800/937] Loss: 0.0344\n",
      "Epoch [5/5], Iter [900/937] Loss: 0.0069\n"
     ]
    }
   ],
   "source": [
    "# train the model\n",
    "from torch.autograd import Variable\n",
    "\n",
    "num_epochs = 5\n",
    "\n",
    "def train(num_epochs):\n",
    "    cnn.train()\n",
    "    for epoch in range(num_epochs):\n",
    "        for i, (images, labels) in enumerate(loaders['train']):\n",
    "            images = Variable(images)\n",
    "            labels = Variable(labels)\n",
    "            \n",
    "            # Forward + Backward + Optimize\n",
    "            optimizer.zero_grad()\n",
    "            outputs, _ = cnn(images)\n",
    "            loss = criterion(outputs, labels)\n",
    "            loss.backward()\n",
    "            optimizer.step()\n",
    "            \n",
    "            if (i+1) % 100 == 0:\n",
    "                print ('Epoch [%d/%d], Iter [%d/%d] Loss: %.4f' \n",
    "                       %(epoch+1, num_epochs, i+1, len(train_data)//64, loss.data.item()))\n",
    "\n",
    "train(num_epochs)\n"
   ]
  },
  {
   "cell_type": "code",
   "execution_count": 22,
   "metadata": {},
   "outputs": [
    {
     "name": "stdout",
     "output_type": "stream",
     "text": [
      "Accuracy of the model on the 10000 test images: 98 %\n"
     ]
    }
   ],
   "source": [
    "# test the model\n",
    "cnn.eval()\n",
    "correct = 0\n",
    "total = 0\n",
    "for images, labels in loaders['test']:\n",
    "    images = Variable(images)\n",
    "    outputs, _ = cnn(images)\n",
    "    _, predicted = torch.max(outputs.data, 1)\n",
    "    total += labels.size(0)\n",
    "    correct += (predicted == labels).sum()\n",
    "\n",
    "print('Accuracy of the model on the 10000 test images: %d %%' % (100 * correct / total))"
   ]
  }
 ],
 "metadata": {
  "interpreter": {
   "hash": "eb238e68b64afb71c1779c62df48529c52fce49f4a42c7f6f4dd07ab1407e2a7"
  },
  "kernelspec": {
   "display_name": "Python 3.7.8 64-bit",
   "language": "python",
   "name": "python3"
  },
  "language_info": {
   "codemirror_mode": {
    "name": "ipython",
    "version": 3
   },
   "file_extension": ".py",
   "mimetype": "text/x-python",
   "name": "python",
   "nbconvert_exporter": "python",
   "pygments_lexer": "ipython3",
   "version": "3.7.8"
  },
  "orig_nbformat": 4
 },
 "nbformat": 4,
 "nbformat_minor": 2
}
